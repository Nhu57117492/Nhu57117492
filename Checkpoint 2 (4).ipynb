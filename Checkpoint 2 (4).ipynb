{
 "cells": [
  {
   "cell_type": "code",
   "execution_count": 10,
   "id": "662b3b47",
   "metadata": {},
   "outputs": [
    {
     "name": "stdout",
     "output_type": "stream",
     "text": [
      "donner votre nom : NIOULE\n",
      "donner votre prenom : Hyacinthe Ulrich\n",
      "Hyacinthe Ulrich NIOULE\n"
     ]
    }
   ],
   "source": [
    "#Question 1\n",
    "nom = str(input(\"donner votre nom : \"))\n",
    "prenoms = str(input(\"donner votre prenom : \"))\n",
    "print(prenoms, nom)\n"
   ]
  },
  {
   "cell_type": "code",
   "execution_count": 11,
   "id": "644585e4",
   "metadata": {},
   "outputs": [
    {
     "name": "stdout",
     "output_type": "stream",
     "text": [
      "Entrer un entier:n = 5\n",
      "n+nn+nnn = 5 + 55 + 555 = 615\n"
     ]
    }
   ],
   "source": [
    "#Question 2\n",
    "#entrer de la valeur de n\n",
    "n = input(\"Entrer un entier:n = \")\n",
    "#Creation des chaine de caractere n, nn et nnn\n",
    "nn = n+n \n",
    "nnn = n+n+n\n",
    "#Conversion en entier des differentes \n",
    "n = int(n)\n",
    "nn = int(nn)\n",
    "nnn = int(nnn)\n",
    "print(\"n+nn+nnn =\",n,\"+\",nn,\"+\",nnn,\"=\",n+nn+nnn)"
   ]
  },
  {
   "cell_type": "code",
   "execution_count": 13,
   "id": "6fd50b6c",
   "metadata": {},
   "outputs": [
    {
     "name": "stdout",
     "output_type": "stream",
     "text": [
      "donner un entier: n = 56384645\n",
      "56384645 est un nombre impair\n"
     ]
    }
   ],
   "source": [
    "#Question 3\n",
    "n = int(input(\"donner un entier: n = \"))\n",
    "if n%2==0:\n",
    "    print(n,\"est un nombre pair\")\n",
    "else:\n",
    "    print(n,\"est un nombre impair\")"
   ]
  },
  {
   "cell_type": "code",
   "execution_count": 1,
   "id": "4075c023",
   "metadata": {},
   "outputs": [
    {
     "name": "stdout",
     "output_type": "stream",
     "text": [
      "200220092016202320372044205120582072207920862093210721142121212821422149215621632177218421912198221222192226223322472254226122682282228922962303231723242331233823522359236623732387239424012408242224292436244324572464247124782492249925062513252725342541254825622569257625832597260426112618263226392646265326672674268126882702270927162723273727442751275827722779278627932807281428212828284228492856286328772884289128982912291929262933294729542961296829822989299630033017302430313038305230593066307330873094310131083122312931363143315731643171317831923199\n"
     ]
    }
   ],
   "source": [
    "#Question 4\n",
    "i=1\n",
    "V=\"\"\n",
    "for n in range(2000,3201):\n",
    "    if n%7==0 and n%5!=0:\n",
    "        i=i+1\n",
    "        n=str(n)\n",
    "        V=V+n\n",
    "print(V)\n",
    "     "
   ]
  },
  {
   "cell_type": "code",
   "execution_count": 23,
   "id": "af19b587",
   "metadata": {},
   "outputs": [
    {
     "name": "stdout",
     "output_type": "stream",
     "text": [
      "entrer un entier: n = 8\n"
     ]
    },
    {
     "data": {
      "text/plain": [
       "40320"
      ]
     },
     "execution_count": 23,
     "metadata": {},
     "output_type": "execute_result"
    }
   ],
   "source": [
    "#Question 5\n",
    "n = int(input(\"entrer un entier: n = \"))\n",
    "def factoriel(n):\n",
    " fact = 1\n",
    " while (n>1):\n",
    "    fact *= n\n",
    "    n -= 1\n",
    " return fact\n",
    "factoriel(n)"
   ]
  },
  {
   "cell_type": "code",
   "execution_count": 18,
   "id": "4aeb9dda",
   "metadata": {},
   "outputs": [
    {
     "name": "stdout",
     "output_type": "stream",
     "text": [
      "Entrer une chaine de caractere : ch = hello team\n",
      "hlota\n"
     ]
    }
   ],
   "source": [
    "#Question 6\n",
    "ch = input(\"Entrer une chaine de caractere : ch = \")\n",
    "l = len(ch)\n",
    "ch1 = \"\"\n",
    "for i in range(0,l):\n",
    "    if i%2 == 0:\n",
    "      ch1= ch1+ch[i]\n",
    "print(ch1)"
   ]
  },
  {
   "cell_type": "code",
   "execution_count": 21,
   "id": "2beb0155",
   "metadata": {},
   "outputs": [
    {
     "name": "stdout",
     "output_type": "stream",
     "text": [
      "Entrer le prix sur l'article: P = 10000\n",
      "Vous devez payer : P =  5000.0 F CFA\n"
     ]
    }
   ],
   "source": [
    "\n",
    " #Question 7\n",
    "P = float(input(\"Entrer le prix sur l'article: P = \"))\n",
    "while P < 0:\n",
    "    print(\"Erreur!!!\")\n",
    "    P = float(input(\"Entrer le prix sur l'article: P = \"))\n",
    "if P >= 500:\n",
    "  P = (1-50/100)*P\n",
    "elif 200 <= P < 500:\n",
    "  P = (1-30/100)*P\n",
    "else:\n",
    "  P = (1-10/100)*P\n",
    "print(\"Vous devez payer : P = \",P,\"F CFA\")"
   ]
  }
 ],
 "metadata": {
  "kernelspec": {
   "display_name": "Python 3 (ipykernel)",
   "language": "python",
   "name": "python3"
  },
  "language_info": {
   "codemirror_mode": {
    "name": "ipython",
    "version": 3
   },
   "file_extension": ".py",
   "mimetype": "text/x-python",
   "name": "python",
   "nbconvert_exporter": "python",
   "pygments_lexer": "ipython3",
   "version": "3.9.7"
  }
 },
 "nbformat": 4,
 "nbformat_minor": 5
}
