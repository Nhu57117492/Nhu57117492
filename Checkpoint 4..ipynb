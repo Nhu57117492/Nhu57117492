{
 "cells": [
  {
   "cell_type": "code",
   "execution_count": 4,
   "id": "7df45b57",
   "metadata": {},
   "outputs": [
    {
     "name": "stdout",
     "output_type": "stream",
     "text": [
      "a= 20\n",
      "b= 35\n",
      "c= 19\n",
      "le Max entre  20 , 35 , 19 est: 35\n"
     ]
    }
   ],
   "source": [
    "#Question 1\n",
    "a=int(input(\"a= \"))\n",
    "b=int(input(\"b= \"))\n",
    "c=int(input(\"c= \"))\n",
    "def Max(a,b,c):\n",
    "    print(\"le Max entre \",a,\",\",b,\",\",c,\"est:\" ,max(a,b,c))\n",
    "Max(a,b,c)"
   ]
  },
  {
   "cell_type": "code",
   "execution_count": 5,
   "id": "8c59e802",
   "metadata": {},
   "outputs": [
    {
     "name": "stdout",
     "output_type": "stream",
     "text": [
      "a= 40\n",
      "b= 10\n"
     ]
    },
    {
     "data": {
      "text/plain": [
       "(50, 30)"
      ]
     },
     "execution_count": 5,
     "metadata": {},
     "output_type": "execute_result"
    }
   ],
   "source": [
    "#Question 2\n",
    "a=int(input(\"a= \"))\n",
    "b=int(input(\"b= \"))\n",
    "def som_dif(a,b):\n",
    "    s=a+b\n",
    "    d=a-b\n",
    "    return s,d\n",
    "som_dif(a,b) "
   ]
  },
  {
   "cell_type": "code",
   "execution_count": 6,
   "id": "69f1f334",
   "metadata": {},
   "outputs": [
    {
     "name": "stdout",
     "output_type": "stream",
     "text": [
      "donner la longueur de votre list :10\n",
      "entrer un element : 1\n",
      "entrer un element : 2\n",
      "entrer un element : 3\n",
      "entrer un element : 4\n",
      "entrer un element : 5\n",
      "entrer un element : 6\n",
      "entrer un element : 7\n",
      "entrer un element : 8\n",
      "entrer un element : 9\n",
      "entrer un element : 10\n",
      "votre liste entrée est: L =  [1, 2, 3, 4, 5, 6, 7, 8, 9, 10]\n",
      "la somme et le produit des elements de la liste L sont respectivement :  55 , 3628800\n",
      "la liste des elements d'indixe paire de L est PAIRE =  [1, 3, 5, 7, 9]\n",
      "la liste des elements d'indixe impaire de L est IMPAIRE =  [2, 4, 6, 8, 10]\n",
      "la somme des elements de la liste PAIRE et le produit des elements de la liste IMPAIRE sont respectivement : 25 , 3840\n"
     ]
    }
   ],
   "source": [
    "#Question 3\n",
    "#Construction de la liste\n",
    "list = []\n",
    "n=int(input(\"donner la longueur de votre list :\"))\n",
    "for i in range(n):\n",
    "   l = int(input(\"entrer un element : \"))\n",
    "   list.append(l)\n",
    "L=list\n",
    "print(\"votre liste entrée est: L = \",L)\n",
    "#Fin de la construction de la liste\n",
    "\n",
    "#Construction de la fonction calculant la somme des element de la liste\n",
    "def somme(L:list):\n",
    "  S = 0\n",
    "  for i in L:\n",
    "      S = S+i\n",
    "  return S\n",
    "\n",
    "#Construction de la fonction calculant le produit des element de la liste\n",
    "def produit(L:list):\n",
    "  P = 1\n",
    "  for i in L:\n",
    "      P = P*i\n",
    "  return P\n",
    "\n",
    "print(\"la somme et le produit des elements de la liste L sont respectivement : \",somme(L),\",\",produit(L))\n",
    "\n",
    "# Construction de liste PAIRE des elements d'indixe pare et de liste IMPAIREd'element d'indixe impaire\n",
    "def PAIRE_IMPAIRE(L:list):\n",
    " PAIRE=[]\n",
    " IMPAIRE=[]\n",
    " for i in range(len(L)):\n",
    "    if i % 2 == 0:\n",
    "        PAIRE.append(L[i])\n",
    "    else:\n",
    "        IMPAIRE.append(L[i])\n",
    " print(\"la liste des elements d'indixe paire de L est PAIRE = \",PAIRE)\n",
    " print(\"la liste des elements d'indixe impaire de L est IMPAIRE = \",IMPAIRE)\n",
    " print(\"la somme des elements de la liste PAIRE et le produit des elements de la liste IMPAIRE sont respectivement :\",somme(PAIRE),\",\", produit(IMPAIRE)) \n",
    "PAIRE_IMPAIRE(L)"
   ]
  },
  {
   "cell_type": "code",
   "execution_count": 7,
   "id": "8ab73f70",
   "metadata": {},
   "outputs": [
    {
     "name": "stdout",
     "output_type": "stream",
     "text": [
      "blanc-jaune-noir-rouge-vert\n"
     ]
    }
   ],
   "source": [
    "#Question 4\n",
    "seq=\"vert-rouge-jaune-noir-blanc\"\n",
    "def sequence(seq):\n",
    "    ch = \"\"\n",
    "    b = seq.split(\"-\")\n",
    "    b.sort()\n",
    "    for i in b:\n",
    "        if i == b[0]:\n",
    "            ch = ch + i\n",
    "        else:\n",
    "            ch = ch + \"-\" + i\n",
    "    return ch\n",
    "print(sequence(seq))         "
   ]
  },
  {
   "cell_type": "code",
   "execution_count": 9,
   "id": "081796e9",
   "metadata": {},
   "outputs": [
    {
     "name": "stdout",
     "output_type": "stream",
     "text": [
      " Veillez entrer trois nombre separé par une virgule <,> :100,150,180\n"
     ]
    },
    {
     "data": {
      "text/plain": [
       "'18,22,24'"
      ]
     },
     "execution_count": 9,
     "metadata": {},
     "output_type": "execute_result"
    }
   ],
   "source": [
    "#Quèestion 5\n",
    "import math\n",
    "n = input(\" Veillez entrer trois nombre separé par une virgule <,> :\")\n",
    "def resultat(n):\n",
    "    p = \"\"\n",
    "    D = n.split(\",\")\n",
    "    C = 50\n",
    "    H = 30\n",
    "    for i in D:\n",
    "        Q = round(math.sqrt((2*C*int(i))/H))\n",
    "        if i == D[0]:\n",
    "            p = p + str(Q)\n",
    "        else:\n",
    "            p = p + \",\" + str(Q)\n",
    "    return p\n",
    "resultat(n)"
   ]
  },
  {
   "cell_type": "code",
   "execution_count": null,
   "id": "40b782f0",
   "metadata": {},
   "outputs": [],
   "source": []
  }
 ],
 "metadata": {
  "kernelspec": {
   "display_name": "Python 3 (ipykernel)",
   "language": "python",
   "name": "python3"
  },
  "language_info": {
   "codemirror_mode": {
    "name": "ipython",
    "version": 3
   },
   "file_extension": ".py",
   "mimetype": "text/x-python",
   "name": "python",
   "nbconvert_exporter": "python",
   "pygments_lexer": "ipython3",
   "version": "3.9.7"
  }
 },
 "nbformat": 4,
 "nbformat_minor": 5
}
