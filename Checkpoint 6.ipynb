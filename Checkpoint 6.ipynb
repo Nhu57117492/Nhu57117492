{
 "cells": [
  {
   "cell_type": "code",
   "execution_count": 18,
   "id": "eaaf6ca8",
   "metadata": {},
   "outputs": [
    {
     "name": "stdout",
     "output_type": "stream",
     "text": [
      "[[1, 2, 3], [4, 5, 6], [7, 8, 9]]\n"
     ]
    }
   ],
   "source": [
    "#Question 1\n",
    "import numpy as np\n",
    "\n",
    "tab = np.array([[1,2,3], [4,5,6], [7,8,9]])\n",
    "\n",
    "print(tab.tolist())"
   ]
  },
  {
   "cell_type": "code",
   "execution_count": 47,
   "id": "3756a905",
   "metadata": {},
   "outputs": [
    {
     "name": "stdout",
     "output_type": "stream",
     "text": [
      "[[1 2 3]\n",
      " [4 5 6]\n",
      " [7 8 9]]\n",
      "la somme des élemens diagonaux demandé est : 15\n"
     ]
    }
   ],
   "source": [
    "#Question 2\n",
    "import numpy as np\n",
    "\n",
    "tab = np.array([[1,2,3], [4,5,6], [7,8,9]])\n",
    "tr = np.trace(tab)\n",
    "print(tab)\n",
    "print(\"la somme des élemens diagonaux demandé est :\", tr)"
   ]
  },
  {
   "cell_type": "code",
   "execution_count": 33,
   "id": "7a77a4bc",
   "metadata": {},
   "outputs": [
    {
     "name": "stdout",
     "output_type": "stream",
     "text": [
      "[3 5]\n"
     ]
    }
   ],
   "source": [
    "#Question 3\n",
    "import numpy as np\n",
    "\n",
    "tab = np.array([[1,2], [3,5]])\n",
    "d = tab[tab>2]\n",
    "print(f\"{d}\")"
   ]
  },
  {
   "cell_type": "code",
   "execution_count": 35,
   "id": "0fb71545",
   "metadata": {},
   "outputs": [
    {
     "name": "stdout",
     "output_type": "stream",
     "text": [
      "la somme de A et B est : C = \n",
      "[[ 2  4  6]\n",
      " [ 8 10 12]\n",
      " [14 16 18]]\n"
     ]
    }
   ],
   "source": [
    "#Question 4\n",
    "import numpy as np\n",
    "\n",
    "A = np.array([[1,2,3], [4,5,6], [7,8,9]])\n",
    "B = np.array([[1,2,3], [4,5,6], [7,8,9]])\n",
    "\n",
    "C = np.add(A,B)\n",
    "print(\"la somme de A et B est : C = \")\n",
    "print(C)"
   ]
  },
  {
   "cell_type": "code",
   "execution_count": 46,
   "id": "c7a9ab9b",
   "metadata": {},
   "outputs": [
    {
     "name": "stdout",
     "output_type": "stream",
     "text": [
      "[[ 4  5  6]\n",
      " [ 7  8  9]\n",
      " [ 1  2  3]\n",
      " [19  3  7]]\n",
      "la moyenne de la ligne 0 est 5.0\n",
      "la moyenne de la ligne 1 est 8.0\n",
      "la moyenne de la ligne 2 est 2.0\n",
      "la moyenne de la ligne 3 est 9.666666666666666\n"
     ]
    }
   ],
   "source": [
    "#Question 5\n",
    "import numpy as np\n",
    "\n",
    "tab = np.array([[4,5,6], [7,8,9],[1,2,3], [19,3,7]])\n",
    "mean_line = np.mean(tab, axis = 1)\n",
    "print(tab)\n",
    "taille = tab.shape\n",
    "def takeFirst(elem):\n",
    "   return elem[0]\n",
    "for i in range(takeFirst(taille)):\n",
    "    print(\"la moyenne de la ligne\",i,\"est\",mean_line[i])"
   ]
  },
  {
   "cell_type": "code",
   "execution_count": null,
   "id": "82e4aee7",
   "metadata": {},
   "outputs": [],
   "source": []
  }
 ],
 "metadata": {
  "kernelspec": {
   "display_name": "Python 3 (ipykernel)",
   "language": "python",
   "name": "python3"
  },
  "language_info": {
   "codemirror_mode": {
    "name": "ipython",
    "version": 3
   },
   "file_extension": ".py",
   "mimetype": "text/x-python",
   "name": "python",
   "nbconvert_exporter": "python",
   "pygments_lexer": "ipython3",
   "version": "3.9.7"
  }
 },
 "nbformat": 4,
 "nbformat_minor": 5
}
