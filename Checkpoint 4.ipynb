{
 "cells": [
  {
   "cell_type": "code",
   "execution_count": 27,
   "id": "bd021738",
   "metadata": {},
   "outputs": [
    {
     "name": "stdout",
     "output_type": "stream",
     "text": [
      "a= 20\n",
      "b= 35\n",
      "c= 19\n",
      "le Max de 20 , 35 , 19 est: 35\n"
     ]
    }
   ],
   "source": [
    "#Question 1\n",
    "a=int(input(\"a= \"))\n",
    "b=int(input(\"b= \"))\n",
    "c=int(input(\"c= \"))\n",
    "def Max(a,b,c):\n",
    "    print(\"le Max entre \",a,\",\",b,\",\",c,\"est:\" ,max(a,b,c))\n",
    "Max(a,b,c)\n"
   ]
  },
  {
   "cell_type": "code",
   "execution_count": 28,
   "id": "d2269c5f",
   "metadata": {},
   "outputs": [
    {
     "name": "stdout",
     "output_type": "stream",
     "text": [
      "a= 40\n",
      "b= 10\n"
     ]
    },
    {
     "data": {
      "text/plain": [
       "(50, 30)"
      ]
     },
     "execution_count": 28,
     "metadata": {},
     "output_type": "execute_result"
    }
   ],
   "source": [
    "#Question 2\n",
    "a=int(input(\"a= \"))\n",
    "b=int(input(\"b= \"))\n",
    "def som_dif(a,b):\n",
    "    s=a+b\n",
    "    d=a-b\n",
    "    return s,d\n",
    "som_dif(a,b) \n"
   ]
  },
  {
   "cell_type": "code",
   "execution_count": 5,
   "id": "9251e70d",
   "metadata": {},
   "outputs": [
    {
     "data": {
      "text/plain": [
       "(8, -2)"
      ]
     },
     "execution_count": 5,
     "metadata": {},
     "output_type": "execute_result"
    }
   ],
   "source": [
    " som_dif(3,5)"
   ]
  },
  {
   "cell_type": "code",
   "execution_count": 6,
   "id": "77203cb1",
   "metadata": {},
   "outputs": [
    {
     "data": {
      "text/plain": [
       "(63, -5)"
      ]
     },
     "execution_count": 6,
     "metadata": {},
     "output_type": "execute_result"
    }
   ],
   "source": [
    "som_dif(29,34)"
   ]
  },
  {
   "cell_type": "code",
   "execution_count": 42,
   "id": "a02a7d9f",
   "metadata": {},
   "outputs": [
    {
     "name": "stdout",
     "output_type": "stream",
     "text": [
      "donner la longueur de votre list :4\n",
      "entrer un element : 4\n",
      "entrer un element : 5\n",
      "entrer un element : 6\n",
      "entrer un element : 7\n",
      "[4, 5, 6, 7]\n"
     ]
    },
    {
     "data": {
      "text/plain": [
       "22"
      ]
     },
     "execution_count": 42,
     "metadata": {},
     "output_type": "execute_result"
    }
   ],
   "source": [
    "#Question 3\n",
    "#premiere question\n",
    "list = []\n",
    "n=int(input(\"donner la longueur de votre list :\"))\n",
    "for i in range(n):\n",
    "   l = int(input(\"entrer un element : \"))\n",
    "   list.append(l)\n",
    "print(list)\n",
    "L=list\n",
    "#fonction calculant la somme et le produit des elements d'une liste donné\n",
    "def somme(L:list):\n",
    "  S = 0\n",
    "  for i in L:\n",
    "      S = S+i\n",
    "  return S\n",
    "somme(L)\n",
    "\n",
    "#deuxieme question\n",
    "def produit(L:list):\n",
    "  P = 1\n",
    "  for i in L:\n",
    "      P = P*i\n",
    "  return P\n",
    "produit(L)\n",
    "\n"
   ]
  },
  {
   "cell_type": "code",
   "execution_count": null,
   "id": "ea51eea0",
   "metadata": {},
   "outputs": [],
   "source": []
  }
 ],
 "metadata": {
  "kernelspec": {
   "display_name": "Python 3 (ipykernel)",
   "language": "python",
   "name": "python3"
  },
  "language_info": {
   "codemirror_mode": {
    "name": "ipython",
    "version": 3
   },
   "file_extension": ".py",
   "mimetype": "text/x-python",
   "name": "python",
   "nbconvert_exporter": "python",
   "pygments_lexer": "ipython3",
   "version": "3.9.7"
  }
 },
 "nbformat": 4,
 "nbformat_minor": 5
}
