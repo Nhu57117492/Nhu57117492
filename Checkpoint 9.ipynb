{
 "cells": [
  {
   "cell_type": "code",
   "execution_count": 70,
   "id": "50a3539d",
   "metadata": {},
   "outputs": [
    {
     "name": "stdout",
     "output_type": "stream",
     "text": [
      "la valeur 5 est dans la liste et a la position 3\n",
      "la valeur 6 ne se trouve pas dans la liste.\n"
     ]
    }
   ],
   "source": [
    "#Question 1\n",
    "A = [1,2,3,5,8]\n",
    "l = 0\n",
    "h = len(A)\n",
    "def binary_search(A,l,h,k):\n",
    "    if h >= l:\n",
    "        mid = l + (h-l)//2\n",
    "        if A[mid] == k:\n",
    "            print(\"la valeur\",k,\"est dans la liste et a la position\",mid)\n",
    "        elif A[mid]>k:\n",
    "            return binary_search(A,l,mid-1,k)\n",
    "        else:\n",
    "            return binary_search(A,mid+1,h,k)\n",
    "    else:\n",
    "        print(\"la valeur\",k,\"ne se trouve pas dans la liste.\")\n",
    "for k in range(5,7):\n",
    "    binary_search(A,l,h,k)"
   ]
  },
  {
   "cell_type": "code",
   "execution_count": 29,
   "id": "01b079c3",
   "metadata": {},
   "outputs": [
    {
     "name": "stdout",
     "output_type": "stream",
     "text": [
      "la puissance 4 de 3 est :  81\n"
     ]
    }
   ],
   "source": [
    "#Question 2\n",
    "a=3\n",
    "b=4\n",
    "def puissance(a,b):\n",
    "    print(\"la puissance\", b,\"de\",a,\"est : \",a**b)\n",
    "puissance(a,b)"
   ]
  },
  {
   "cell_type": "code",
   "execution_count": 81,
   "id": "89cee0cf",
   "metadata": {},
   "outputs": [
    {
     "data": {
      "text/plain": [
       "[13, 22, 29, 37, 46, 49, 52, 56, 71]"
      ]
     },
     "execution_count": 81,
     "metadata": {},
     "output_type": "execute_result"
    }
   ],
   "source": [
    "#Question 3\n",
    "A = [29,13,22,37,52,49,46,71,56]\n",
    "def bubble_Sort(A):\n",
    "    for j in range(len(A)-1,0,-1):\n",
    "        for i in range(j):\n",
    "            if A[i]>A[i+1]:\n",
    "                temp = A[i]\n",
    "                A[i] = A[i+1]\n",
    "                A[i+1] = temp\n",
    "    return A\n",
    "bubble_Sort(A)"
   ]
  },
  {
   "cell_type": "code",
   "execution_count": 100,
   "id": "c92bc487",
   "metadata": {},
   "outputs": [
    {
     "name": "stdout",
     "output_type": "stream",
     "text": [
      "la liste rangé est :  [13, 22, 29, 37, 46, 49, 52, 56, 71]\n"
     ]
    }
   ],
   "source": [
    "#Question 4\n",
    "myList = [29,13,22,37,52,49,46,71,56]\n",
    "def Tri_fusion(myList):\n",
    "    if len(myList) > 1:\n",
    "        mid = len(myList) // 2\n",
    "        left = myList[:mid]\n",
    "        right = myList[mid:]\n",
    "\n",
    "        # Application de la fonction au deux sous liste\n",
    "        Tri_fusion(left)\n",
    "        Tri_fusion(right)\n",
    "\n",
    "        # boucle pour les sous listes et rangement des different elements des sous listes\n",
    "        i = 0\n",
    "        j = 0\n",
    "        \n",
    "        # Iteration pour la liste principale\n",
    "        k = 0\n",
    "        \n",
    "        while i < len(left) and j < len(right):\n",
    "            if left[i] < right[j]:\n",
    "              # The value from the left half has been used\n",
    "              myList[k] = left[i]\n",
    "              # Move the iterator forward\n",
    "              i += 1\n",
    "            else:\n",
    "                myList[k] = right[j]\n",
    "                j += 1\n",
    "            # Move to the next slot\n",
    "            k += 1\n",
    "\n",
    "        # For all the remaining values\n",
    "        while i < len(left):\n",
    "            myList[k] = left[i]\n",
    "            i += 1\n",
    "            k += 1\n",
    "\n",
    "        while j < len(right):\n",
    "            myList[k]=right[j]\n",
    "            j += 1\n",
    "            k += 1\n",
    "Tri_fusion(myList)\n",
    "print(\"la liste rangé est : \", myList)"
   ]
  },
  {
   "cell_type": "code",
   "execution_count": 105,
   "id": "4ff89766",
   "metadata": {},
   "outputs": [
    {
     "name": "stdout",
     "output_type": "stream",
     "text": [
      "[13, 22, 29, 37, 46, 49, 52, 56, 71]\n"
     ]
    }
   ],
   "source": [
    "#Quesdtion 5\n",
    "def partition(array, start, end):\n",
    "    pivot = array[start]\n",
    "    low = start + 1\n",
    "    high = end\n",
    "    while True:\n",
    "        # If the current value we're looking at is larger than the pivot\n",
    "        # it's in the right place (right side of pivot) and we can move left,\n",
    "        # to the next element.\n",
    "        # We also need to make sure we haven't surpassed the low pointer, since that\n",
    "        # indicates we have already moved all the elements to their correct side of the pivot\n",
    "        while low <= high and array[high] >= pivot:\n",
    "            high = high - 1\n",
    "\n",
    "        # Opposite process of the one above\n",
    "        while low <= high and array[low] <= pivot:\n",
    "            low = low + 1\n",
    "\n",
    "        # We either found a value for both high and low that is out of order\n",
    "        # or low is higher than high, in which case we exit the loop\n",
    "        if low <= high:\n",
    "            array[low], array[high] = array[high], array[low]\n",
    "            # The loop continues\n",
    "        else:\n",
    "            # We exit out of the loop\n",
    "            break\n",
    "\n",
    "    array[start], array[high] = array[high], array[start]\n",
    "\n",
    "    return high\n",
    "\n",
    "def quick_sort(array, start, end):\n",
    "    if start >= end:\n",
    "        return\n",
    "\n",
    "    p = partition(array, start, end)\n",
    "    quick_sort(array, start, p-1)\n",
    "    quick_sort(array, p+1, end)\n",
    "    \n",
    "array = [29,13,22,37,52,49,46,71,56]\n",
    "quick_sort(array, 0, len(array) - 1)\n",
    "print(array)\n"
   ]
  },
  {
   "cell_type": "code",
   "execution_count": null,
   "id": "a7951b4a",
   "metadata": {},
   "outputs": [],
   "source": []
  }
 ],
 "metadata": {
  "kernelspec": {
   "display_name": "Python 3 (ipykernel)",
   "language": "python",
   "name": "python3"
  },
  "language_info": {
   "codemirror_mode": {
    "name": "ipython",
    "version": 3
   },
   "file_extension": ".py",
   "mimetype": "text/x-python",
   "name": "python",
   "nbconvert_exporter": "python",
   "pygments_lexer": "ipython3",
   "version": "3.9.7"
  }
 },
 "nbformat": 4,
 "nbformat_minor": 5
}
