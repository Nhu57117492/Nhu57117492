{
 "cells": [
  {
   "cell_type": "code",
   "execution_count": 15,
   "id": "662b3b47",
   "metadata": {},
   "outputs": [
    {
     "name": "stdout",
     "output_type": "stream",
     "text": [
      "donner votre nom : NIOULE\n",
      "donner votre prenom : Hyacinthe Ulrich\n",
      "Hyacinthe Ulrich NIOULE\n"
     ]
    }
   ],
   "source": [
    "#Question 1\n",
    "nom = str(input(\"donner votre nom : \"))\n",
    "prenoms = str(input(\"donner votre prenom : \"))\n",
    "print(prenoms, nom)"
   ]
  },
  {
   "cell_type": "code",
   "execution_count": 16,
   "id": "644585e4",
   "metadata": {},
   "outputs": [
    {
     "name": "stdout",
     "output_type": "stream",
     "text": [
      "Entrer un entier:n = 5\n",
      "n+nn+nnn = 5 + 55 + 555 = 615\n"
     ]
    }
   ],
   "source": [
    "#Question 2\n",
    "#entrer de la valeur de n\n",
    "n = input(\"Entrer un entier:n = \")\n",
    "#Creation des chaine de caractere n, nn et nnn\n",
    "nn = n+n \n",
    "nnn = n+n+n\n",
    "#Conversion en entier des differentes \n",
    "n = int(n)\n",
    "nn = int(nn)\n",
    "nnn = int(nnn)\n",
    "print(\"n+nn+nnn =\",n,\"+\",nn,\"+\",nnn,\"=\",n+nn+nnn)"
   ]
  },
  {
   "cell_type": "code",
   "execution_count": 17,
   "id": "6fd50b6c",
   "metadata": {},
   "outputs": [
    {
     "name": "stdout",
     "output_type": "stream",
     "text": [
      "donner un entier: n = 8\n",
      "8 est un nombre pair\n"
     ]
    }
   ],
   "source": [
    "#Question 3\n",
    "n = int(input(\"donner un entier: n = \"))\n",
    "if n%2==0:\n",
    "    print(n,\"est un nombre pair\")\n",
    "else:\n",
    "    print(n,\"est un nombre impair\")"
   ]
  },
  {
   "cell_type": "code",
   "execution_count": 22,
   "id": "4075c023",
   "metadata": {},
   "outputs": [
    {
     "name": "stdout",
     "output_type": "stream",
     "text": [
      "2002 est le 1 ieme nombre divisible par 7 entre 2000 et 3200\n",
      "2009 est le 2 ieme nombre divisible par 7 entre 2000 et 3200\n",
      "2016 est le 3 ieme nombre divisible par 7 entre 2000 et 3200\n",
      "2023 est le 4 ieme nombre divisible par 7 entre 2000 et 3200\n",
      "2037 est le 5 ieme nombre divisible par 7 entre 2000 et 3200\n",
      "2044 est le 6 ieme nombre divisible par 7 entre 2000 et 3200\n",
      "2051 est le 7 ieme nombre divisible par 7 entre 2000 et 3200\n",
      "2058 est le 8 ieme nombre divisible par 7 entre 2000 et 3200\n",
      "2072 est le 9 ieme nombre divisible par 7 entre 2000 et 3200\n",
      "2079 est le 10 ieme nombre divisible par 7 entre 2000 et 3200\n",
      "2086 est le 11 ieme nombre divisible par 7 entre 2000 et 3200\n",
      "2093 est le 12 ieme nombre divisible par 7 entre 2000 et 3200\n",
      "2107 est le 13 ieme nombre divisible par 7 entre 2000 et 3200\n",
      "2114 est le 14 ieme nombre divisible par 7 entre 2000 et 3200\n",
      "2121 est le 15 ieme nombre divisible par 7 entre 2000 et 3200\n",
      "2128 est le 16 ieme nombre divisible par 7 entre 2000 et 3200\n",
      "2142 est le 17 ieme nombre divisible par 7 entre 2000 et 3200\n",
      "2149 est le 18 ieme nombre divisible par 7 entre 2000 et 3200\n",
      "2156 est le 19 ieme nombre divisible par 7 entre 2000 et 3200\n",
      "2163 est le 20 ieme nombre divisible par 7 entre 2000 et 3200\n",
      "2177 est le 21 ieme nombre divisible par 7 entre 2000 et 3200\n",
      "2184 est le 22 ieme nombre divisible par 7 entre 2000 et 3200\n",
      "2191 est le 23 ieme nombre divisible par 7 entre 2000 et 3200\n",
      "2198 est le 24 ieme nombre divisible par 7 entre 2000 et 3200\n",
      "2212 est le 25 ieme nombre divisible par 7 entre 2000 et 3200\n",
      "2219 est le 26 ieme nombre divisible par 7 entre 2000 et 3200\n",
      "2226 est le 27 ieme nombre divisible par 7 entre 2000 et 3200\n",
      "2233 est le 28 ieme nombre divisible par 7 entre 2000 et 3200\n",
      "2247 est le 29 ieme nombre divisible par 7 entre 2000 et 3200\n",
      "2254 est le 30 ieme nombre divisible par 7 entre 2000 et 3200\n",
      "2261 est le 31 ieme nombre divisible par 7 entre 2000 et 3200\n",
      "2268 est le 32 ieme nombre divisible par 7 entre 2000 et 3200\n",
      "2282 est le 33 ieme nombre divisible par 7 entre 2000 et 3200\n",
      "2289 est le 34 ieme nombre divisible par 7 entre 2000 et 3200\n",
      "2296 est le 35 ieme nombre divisible par 7 entre 2000 et 3200\n",
      "2303 est le 36 ieme nombre divisible par 7 entre 2000 et 3200\n",
      "2317 est le 37 ieme nombre divisible par 7 entre 2000 et 3200\n",
      "2324 est le 38 ieme nombre divisible par 7 entre 2000 et 3200\n",
      "2331 est le 39 ieme nombre divisible par 7 entre 2000 et 3200\n",
      "2338 est le 40 ieme nombre divisible par 7 entre 2000 et 3200\n",
      "2352 est le 41 ieme nombre divisible par 7 entre 2000 et 3200\n",
      "2359 est le 42 ieme nombre divisible par 7 entre 2000 et 3200\n",
      "2366 est le 43 ieme nombre divisible par 7 entre 2000 et 3200\n",
      "2373 est le 44 ieme nombre divisible par 7 entre 2000 et 3200\n",
      "2387 est le 45 ieme nombre divisible par 7 entre 2000 et 3200\n",
      "2394 est le 46 ieme nombre divisible par 7 entre 2000 et 3200\n",
      "2401 est le 47 ieme nombre divisible par 7 entre 2000 et 3200\n",
      "2408 est le 48 ieme nombre divisible par 7 entre 2000 et 3200\n",
      "2422 est le 49 ieme nombre divisible par 7 entre 2000 et 3200\n",
      "2429 est le 50 ieme nombre divisible par 7 entre 2000 et 3200\n",
      "2436 est le 51 ieme nombre divisible par 7 entre 2000 et 3200\n",
      "2443 est le 52 ieme nombre divisible par 7 entre 2000 et 3200\n",
      "2457 est le 53 ieme nombre divisible par 7 entre 2000 et 3200\n",
      "2464 est le 54 ieme nombre divisible par 7 entre 2000 et 3200\n",
      "2471 est le 55 ieme nombre divisible par 7 entre 2000 et 3200\n",
      "2478 est le 56 ieme nombre divisible par 7 entre 2000 et 3200\n",
      "2492 est le 57 ieme nombre divisible par 7 entre 2000 et 3200\n",
      "2499 est le 58 ieme nombre divisible par 7 entre 2000 et 3200\n",
      "2506 est le 59 ieme nombre divisible par 7 entre 2000 et 3200\n",
      "2513 est le 60 ieme nombre divisible par 7 entre 2000 et 3200\n",
      "2527 est le 61 ieme nombre divisible par 7 entre 2000 et 3200\n",
      "2534 est le 62 ieme nombre divisible par 7 entre 2000 et 3200\n",
      "2541 est le 63 ieme nombre divisible par 7 entre 2000 et 3200\n",
      "2548 est le 64 ieme nombre divisible par 7 entre 2000 et 3200\n",
      "2562 est le 65 ieme nombre divisible par 7 entre 2000 et 3200\n",
      "2569 est le 66 ieme nombre divisible par 7 entre 2000 et 3200\n",
      "2576 est le 67 ieme nombre divisible par 7 entre 2000 et 3200\n",
      "2583 est le 68 ieme nombre divisible par 7 entre 2000 et 3200\n",
      "2597 est le 69 ieme nombre divisible par 7 entre 2000 et 3200\n",
      "2604 est le 70 ieme nombre divisible par 7 entre 2000 et 3200\n",
      "2611 est le 71 ieme nombre divisible par 7 entre 2000 et 3200\n",
      "2618 est le 72 ieme nombre divisible par 7 entre 2000 et 3200\n",
      "2632 est le 73 ieme nombre divisible par 7 entre 2000 et 3200\n",
      "2639 est le 74 ieme nombre divisible par 7 entre 2000 et 3200\n",
      "2646 est le 75 ieme nombre divisible par 7 entre 2000 et 3200\n",
      "2653 est le 76 ieme nombre divisible par 7 entre 2000 et 3200\n",
      "2667 est le 77 ieme nombre divisible par 7 entre 2000 et 3200\n",
      "2674 est le 78 ieme nombre divisible par 7 entre 2000 et 3200\n",
      "2681 est le 79 ieme nombre divisible par 7 entre 2000 et 3200\n",
      "2688 est le 80 ieme nombre divisible par 7 entre 2000 et 3200\n",
      "2702 est le 81 ieme nombre divisible par 7 entre 2000 et 3200\n",
      "2709 est le 82 ieme nombre divisible par 7 entre 2000 et 3200\n",
      "2716 est le 83 ieme nombre divisible par 7 entre 2000 et 3200\n",
      "2723 est le 84 ieme nombre divisible par 7 entre 2000 et 3200\n",
      "2737 est le 85 ieme nombre divisible par 7 entre 2000 et 3200\n",
      "2744 est le 86 ieme nombre divisible par 7 entre 2000 et 3200\n",
      "2751 est le 87 ieme nombre divisible par 7 entre 2000 et 3200\n",
      "2758 est le 88 ieme nombre divisible par 7 entre 2000 et 3200\n",
      "2772 est le 89 ieme nombre divisible par 7 entre 2000 et 3200\n",
      "2779 est le 90 ieme nombre divisible par 7 entre 2000 et 3200\n",
      "2786 est le 91 ieme nombre divisible par 7 entre 2000 et 3200\n",
      "2793 est le 92 ieme nombre divisible par 7 entre 2000 et 3200\n",
      "2807 est le 93 ieme nombre divisible par 7 entre 2000 et 3200\n",
      "2814 est le 94 ieme nombre divisible par 7 entre 2000 et 3200\n",
      "2821 est le 95 ieme nombre divisible par 7 entre 2000 et 3200\n",
      "2828 est le 96 ieme nombre divisible par 7 entre 2000 et 3200\n",
      "2842 est le 97 ieme nombre divisible par 7 entre 2000 et 3200\n",
      "2849 est le 98 ieme nombre divisible par 7 entre 2000 et 3200\n",
      "2856 est le 99 ieme nombre divisible par 7 entre 2000 et 3200\n",
      "2863 est le 100 ieme nombre divisible par 7 entre 2000 et 3200\n",
      "2877 est le 101 ieme nombre divisible par 7 entre 2000 et 3200\n",
      "2884 est le 102 ieme nombre divisible par 7 entre 2000 et 3200\n",
      "2891 est le 103 ieme nombre divisible par 7 entre 2000 et 3200\n",
      "2898 est le 104 ieme nombre divisible par 7 entre 2000 et 3200\n",
      "2912 est le 105 ieme nombre divisible par 7 entre 2000 et 3200\n",
      "2919 est le 106 ieme nombre divisible par 7 entre 2000 et 3200\n",
      "2926 est le 107 ieme nombre divisible par 7 entre 2000 et 3200\n",
      "2933 est le 108 ieme nombre divisible par 7 entre 2000 et 3200\n",
      "2947 est le 109 ieme nombre divisible par 7 entre 2000 et 3200\n",
      "2954 est le 110 ieme nombre divisible par 7 entre 2000 et 3200\n",
      "2961 est le 111 ieme nombre divisible par 7 entre 2000 et 3200\n",
      "2968 est le 112 ieme nombre divisible par 7 entre 2000 et 3200\n",
      "2982 est le 113 ieme nombre divisible par 7 entre 2000 et 3200\n",
      "2989 est le 114 ieme nombre divisible par 7 entre 2000 et 3200\n",
      "2996 est le 115 ieme nombre divisible par 7 entre 2000 et 3200\n",
      "3003 est le 116 ieme nombre divisible par 7 entre 2000 et 3200\n",
      "3017 est le 117 ieme nombre divisible par 7 entre 2000 et 3200\n",
      "3024 est le 118 ieme nombre divisible par 7 entre 2000 et 3200\n",
      "3031 est le 119 ieme nombre divisible par 7 entre 2000 et 3200\n",
      "3038 est le 120 ieme nombre divisible par 7 entre 2000 et 3200\n",
      "3052 est le 121 ieme nombre divisible par 7 entre 2000 et 3200\n",
      "3059 est le 122 ieme nombre divisible par 7 entre 2000 et 3200\n",
      "3066 est le 123 ieme nombre divisible par 7 entre 2000 et 3200\n",
      "3073 est le 124 ieme nombre divisible par 7 entre 2000 et 3200\n",
      "3087 est le 125 ieme nombre divisible par 7 entre 2000 et 3200\n",
      "3094 est le 126 ieme nombre divisible par 7 entre 2000 et 3200\n",
      "3101 est le 127 ieme nombre divisible par 7 entre 2000 et 3200\n",
      "3108 est le 128 ieme nombre divisible par 7 entre 2000 et 3200\n",
      "3122 est le 129 ieme nombre divisible par 7 entre 2000 et 3200\n",
      "3129 est le 130 ieme nombre divisible par 7 entre 2000 et 3200\n",
      "3136 est le 131 ieme nombre divisible par 7 entre 2000 et 3200\n",
      "3143 est le 132 ieme nombre divisible par 7 entre 2000 et 3200\n",
      "3157 est le 133 ieme nombre divisible par 7 entre 2000 et 3200\n",
      "3164 est le 134 ieme nombre divisible par 7 entre 2000 et 3200\n",
      "3171 est le 135 ieme nombre divisible par 7 entre 2000 et 3200\n",
      "3178 est le 136 ieme nombre divisible par 7 entre 2000 et 3200\n",
      "3192 est le 137 ieme nombre divisible par 7 entre 2000 et 3200\n",
      "3199 est le 138 ieme nombre divisible par 7 entre 2000 et 3200\n"
     ]
    }
   ],
   "source": [
    "#Question 4\n",
    "i=1\n",
    "for n in range(2000,3201):\n",
    "    if n%7==0 and n%5!=0:\n",
    "        print(n,\"est le\",i,\"ieme nombre divisible par 7 entre 2000 et 3200\")\n",
    "        i=i+1\n",
    "     "
   ]
  },
  {
   "cell_type": "code",
   "execution_count": 23,
   "id": "af19b587",
   "metadata": {},
   "outputs": [
    {
     "name": "stdout",
     "output_type": "stream",
     "text": [
      "entrer un entier: n = 8\n"
     ]
    },
    {
     "data": {
      "text/plain": [
       "40320"
      ]
     },
     "execution_count": 23,
     "metadata": {},
     "output_type": "execute_result"
    }
   ],
   "source": [
    "#Question 5\n",
    "n = int(input(\"entrer un entier: n = \"))\n",
    "def factoriel(n):\n",
    " fact = 1\n",
    " while (n>1):\n",
    "    fact *= n\n",
    "    n -= 1\n",
    " return fact\n",
    "factoriel(n)"
   ]
  },
  {
   "cell_type": "code",
   "execution_count": 18,
   "id": "4aeb9dda",
   "metadata": {},
   "outputs": [
    {
     "name": "stdout",
     "output_type": "stream",
     "text": [
      "Entrer une chaine de caractere : ch = hello team\n",
      "hlota\n"
     ]
    }
   ],
   "source": [
    "#Question 6\n",
    "ch = input(\"Entrer une chaine de caractere : ch = \")\n",
    "l = len(ch)\n",
    "ch1 = \"\"\n",
    "for i in range(0,l):\n",
    "    if i%2 == 0:\n",
    "      ch1= ch1+ch[i]\n",
    "print(ch1)"
   ]
  },
  {
   "cell_type": "code",
   "execution_count": 21,
   "id": "2beb0155",
   "metadata": {},
   "outputs": [
    {
     "name": "stdout",
     "output_type": "stream",
     "text": [
      "Entrer le prix sur l'article: P = 10000\n",
      "Vous devez payer : P =  5000.0 F CFA\n"
     ]
    }
   ],
   "source": [
    "\n",
    " #Question 7\n",
    "P = float(input(\"Entrer le prix sur l'article: P = \"))\n",
    "while P < 0:\n",
    "    print(\"Erreur!!!\")\n",
    "    P = float(input(\"Entrer le prix sur l'article: P = \"))\n",
    "if P >= 500:\n",
    "  P = (1-50/100)*P\n",
    "elif 200 <= P < 500:\n",
    "  P = (1-30/100)*P\n",
    "else:\n",
    "  P = (1-10/100)*P\n",
    "print(\"Vous devez payer : P = \",P,\"F CFA\")"
   ]
  },
  {
   "cell_type": "code",
   "execution_count": null,
   "id": "8e18c257",
   "metadata": {},
   "outputs": [],
   "source": []
  }
 ],
 "metadata": {
  "kernelspec": {
   "display_name": "Python 3 (ipykernel)",
   "language": "python",
   "name": "python3"
  },
  "language_info": {
   "codemirror_mode": {
    "name": "ipython",
    "version": 3
   },
   "file_extension": ".py",
   "mimetype": "text/x-python",
   "name": "python",
   "nbconvert_exporter": "python",
   "pygments_lexer": "ipython3",
   "version": "3.9.7"
  }
 },
 "nbformat": 4,
 "nbformat_minor": 5
}
