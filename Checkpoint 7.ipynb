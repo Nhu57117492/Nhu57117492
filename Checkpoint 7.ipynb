{
 "cells": [
  {
   "cell_type": "code",
   "execution_count": 18,
   "id": "dddc3bdb",
   "metadata": {},
   "outputs": [
    {
     "name": "stdout",
     "output_type": "stream",
     "text": [
      "        noms  score  tentatives qualifier\n",
      "a   Anstasia   12.5           1       oui\n",
      "b       Dima    9.0           3       non\n",
      "c  Katherine   16.5           2       oui\n"
     ]
    }
   ],
   "source": [
    "#Question 1\n",
    "import pandas as pd\n",
    "import numpy as np\n",
    "\n",
    "exam_data = {\"noms\":[\"Anstasia\",\"Dima\",\"Katherine\",\"Jmaes\",\"Emily\",\"Michael\",\"Matthieu\",\"Laura\",\"Kevin\",\"Jonas\"],\n",
    "            \"score\": [12.5,9,16.5,np.nan,9,20,14.5,np.nan,8,19],\n",
    "             \"tentatives\": [1,3,2,3,2,3,1,1,2,1],\n",
    "            \"qualifier\":[\"oui\",\"non\",\"oui\",\"non\",\"non\",\"non\",\"oui\",\"oui\",\"non\",\"oui\"]}\n",
    "etiquettes = [\"a\",\"b\",\"c\",\"d\",\"e\",\"f\",\"g\",\"h\",\"i\",\"j\"]\n",
    "df = pd.DataFrame(exam_data, index = etiquettes)\n",
    "print(df.head(3))"
   ]
  },
  {
   "cell_type": "code",
   "execution_count": 19,
   "id": "567a6b41",
   "metadata": {},
   "outputs": [
    {
     "name": "stdout",
     "output_type": "stream",
     "text": [
      "        noms  score tentatives\n",
      "a   Anstasia   12.5        oui\n",
      "b       Dima    9.0        non\n",
      "c  Katherine   16.5        oui\n",
      "e      Emily    9.0        non\n",
      "f    Michael   20.0        non\n",
      "g   Matthieu   14.5        oui\n",
      "i      Kevin    8.0        non\n",
      "j      Jonas   19.0        oui\n"
     ]
    }
   ],
   "source": [
    "#Question 2\n",
    "import pandas as pd\n",
    "import numpy as np\n",
    "\n",
    "exam_data = {\"noms\": [\"Anstasia\",\"Dima\",\"Katherine\",\"Jmaes\",\"Emily\",\"Michael\",\"Matthieu\",\"Laura\",\"Kevin\",\"Jonas\"],\n",
    "            \"score\": [12.5,9,16.5,np.nan,9,20,14.5,np.nan,8,19],\n",
    "           \"tentatives\":[\"oui\",\"non\",\"oui\",\"non\",\"non\",\"non\",\"oui\",\"oui\",\"non\",\"oui\"]}\n",
    "etiquettes = [\"a\",\"b\",\"c\",\"d\",\"e\",\"f\",\"g\",\"h\",\"i\",\"j\"]\n",
    "\n",
    "df = pd.DataFrame(exam_data, index = etiquettes)\n",
    "\n",
    "df_drop = df.drop([\"d\", \"h\"], axis = 0)\n",
    "\n",
    "print(df_drop)"
   ]
  },
  {
   "cell_type": "code",
   "execution_count": 20,
   "id": "f18c799c",
   "metadata": {},
   "outputs": [
    {
     "name": "stdout",
     "output_type": "stream",
     "text": [
      "        noms  score\n",
      "a   Anstasia   12.5\n",
      "b       Dima    9.0\n",
      "c  Katherine   16.5\n",
      "d      Jmaes    NaN\n",
      "e      Emily    9.0\n",
      "f    Michael   20.0\n",
      "g   Matthieu   14.5\n",
      "h      Laura    NaN\n",
      "i      Kevin    8.0\n",
      "j      Jonas   19.0\n"
     ]
    }
   ],
   "source": [
    "#Question 3\n",
    "import pandas as pd\n",
    "import numpy as np\n",
    "\n",
    "exam_data = {\"noms\":[\"Anstasia\",\"Dima\",\"Katherine\",\"Jmaes\",\"Emily\",\"Michael\",\"Matthieu\",\"Laura\",\"Kevin\",\"Jonas\"],\n",
    "            \"score\": [12.5,9,16.5,np.nan,9,20,14.5,np.nan,8,19],\n",
    "            \"tentatives\": [1,3,2,3,2,3,1,1,2,1],\n",
    "            \"qualifier\":[\"oui\",\"non\",\"oui\",\"non\",\"non\",\"non\",\"oui\",\"oui\",\"non\",\"oui\"]}\n",
    "etiquettes = [\"a\",\"b\",\"c\",\"d\",\"e\",\"f\",\"g\",\"h\",\"i\",\"j\"]\n",
    "\n",
    "df = pd.DataFrame(exam_data, index = etiquettes)\n",
    "\n",
    "extraction = df[[\"noms\", \"score\"]]\n",
    "\n",
    "print(extraction)"
   ]
  },
  {
   "cell_type": "code",
   "execution_count": 9,
   "id": "1b3bb1a5",
   "metadata": {},
   "outputs": [
    {
     "name": "stdout",
     "output_type": "stream",
     "text": [
      "        noms score tentatives qualifier\n",
      "a   Anstasia  12.5          1       oui\n",
      "b       Dima   9.0          3       non\n",
      "c  Katherine  16.5          2       oui\n",
      "d      Jmaes   NaN          3       non\n",
      "e      Emily   9.0          2       non\n",
      "f    Michael  20.0          3       non\n",
      "g   Matthieu  14.5          1       oui\n",
      "h      Laura   NaN          1       oui\n",
      "i      Kevin   8.0          2       non\n",
      "j      Jonas  19.0          1       oui\n",
      "k     Suresh  15.5          1       oui\n"
     ]
    }
   ],
   "source": [
    "#Question 4\n",
    "import pandas as pd\n",
    "import numpy as np\n",
    "\n",
    "exam_data = {\"noms\":[\"Anstasia\",\"Dima\",\"Katherine\",\"Jmaes\",\"Emily\",\"Michael\",\"Matthieu\",\"Laura\",\"Kevin\",\"Jonas\"],\n",
    "            \"score\": [12.5,9,16.5,np.nan,9,20,14.5,np.nan,8,19],\n",
    "            \"tentatives\": [1,3,2,3,2,3,1,1,2,1],\n",
    "            \"qualifier\":[\"oui\",\"non\",\"oui\",\"non\",\"non\",\"non\",\"oui\",\"oui\",\"non\",\"oui\"]}\n",
    "etiquettes = [\"a\",\"b\",\"c\",\"d\",\"e\",\"f\",\"g\",\"h\",\"i\",\"j\"]\n",
    "\n",
    "df = pd.DataFrame(exam_data, index = etiquettes)\n",
    "\n",
    "new_data = {'noms':'Suresh', 'score': '15.5','tentatives':'1','qualifier':'oui'}\n",
    "\n",
    "df.loc['k'] = new_data\n",
    "\n",
    "print(df)\n"
   ]
  },
  {
   "cell_type": "code",
   "execution_count": 21,
   "id": "7b6dd997",
   "metadata": {},
   "outputs": [
    {
     "name": "stdout",
     "output_type": "stream",
     "text": [
      "        noms  score qualifier\n",
      "a   Anstasia   12.5       oui\n",
      "b       Dima    9.0       non\n",
      "c  Katherine   16.5       oui\n",
      "d      Jmaes    NaN       non\n",
      "e      Emily    9.0       non\n",
      "f    Michael   20.0       non\n",
      "g   Matthieu   14.5       oui\n",
      "h      Laura    NaN       oui\n",
      "i      Kevin    8.0       non\n",
      "j      Jonas   19.0       oui\n"
     ]
    }
   ],
   "source": [
    "#Question 5\n",
    "import pandas as pd\n",
    "import numpy as np\n",
    "\n",
    "exam_data = {\"noms\":[\"Anstasia\",\"Dima\",\"Katherine\",\"Jmaes\",\"Emily\",\"Michael\",\"Matthieu\",\"Laura\",\"Kevin\",\"Jonas\"],\n",
    "            \"score\": [12.5,9,16.5,np.nan,9,20,14.5,np.nan,8,19],\n",
    "            \"tentatives\": [1,3,2,3,2,3,1,1,2,1],\n",
    "            \"qualifier\":[\"oui\",\"non\",\"oui\",\"non\",\"non\",\"non\",\"oui\",\"oui\",\"non\",\"oui\"]}\n",
    "etiquettes = [\"a\",\"b\",\"c\",\"d\",\"e\",\"f\",\"g\",\"h\",\"i\",\"j\"]\n",
    "\n",
    "df = pd.DataFrame(exam_data, index = etiquettes)\n",
    "\n",
    "df_drop = df.drop(\"tentatives\", axis = 1)\n",
    "\n",
    "print(df_drop)\n"
   ]
  },
  {
   "cell_type": "code",
   "execution_count": 14,
   "id": "faeab81e",
   "metadata": {},
   "outputs": [
    {
     "name": "stdout",
     "output_type": "stream",
     "text": [
      "        noms  score  tentatives qualifier  succes\n",
      "a   Anstasia   12.5           1       oui       1\n",
      "b       Dima    9.0           3       non       0\n",
      "c  Katherine   16.5           2       oui       1\n",
      "d      Jmaes    NaN           3       non       0\n",
      "e      Emily    9.0           2       non       0\n",
      "f    Michael   20.0           3       non       1\n",
      "g   Matthieu   14.5           1       oui       1\n",
      "h      Laura    NaN           1       oui       0\n",
      "i      Kevin    8.0           2       non       0\n",
      "j      Jonas   19.0           1       oui       1\n"
     ]
    }
   ],
   "source": [
    "#Question 6\n",
    "import pandas as pd\n",
    "import numpy as np\n",
    "\n",
    "exam_data = {\"noms\":[\"Anstasia\",\"Dima\",\"Katherine\",\"Jmaes\",\"Emily\",\"Michael\",\"Matthieu\",\"Laura\",\"Kevin\",\"Jonas\"],\n",
    "            \"score\": [12.5,9,16.5,np.nan,9,20,14.5,np.nan,8,19],\n",
    "            \"tentatives\": [1,3,2,3,2,3,1,1,2,1],\n",
    "            \"qualifier\":[\"oui\",\"non\",\"oui\",\"non\",\"non\",\"non\",\"oui\",\"oui\",\"non\",\"oui\"]}\n",
    "etiquettes = [\"a\",\"b\",\"c\",\"d\",\"e\",\"f\",\"g\",\"h\",\"i\",\"j\"]\n",
    "\n",
    "df = pd.DataFrame(exam_data, index = etiquettes)\n",
    "\n",
    "df['succes'] = np.where(df['score']>10, 1, 0)\n",
    "\n",
    "print(df)"
   ]
  },
  {
   "cell_type": "code",
   "execution_count": 22,
   "id": "48995c25",
   "metadata": {},
   "outputs": [
    {
     "name": "stdout",
     "output_type": "stream",
     "text": [
      "        noms  score  tentatives qualifier\n",
      "a   Anstasia   12.5           1       oui\n",
      "b       Dima    9.0           3       non\n",
      "c  Katherine   16.5           2       oui\n",
      "d      Jmaes    NaN           3       non\n",
      "e      Emily    9.0           2       non\n",
      "f    Michael   20.0           3       non\n",
      "g   Matthieu   14.5           1       oui\n",
      "h      Laura    NaN           1       oui\n",
      "i      Kevin    8.0           2       non\n",
      "j      Jonas   19.0           1       oui\n"
     ]
    }
   ],
   "source": [
    "#Question 7\n",
    "import pandas as pd\n",
    "import numpy as np\n",
    "\n",
    "exam_data = {\"noms\":[\"Anstasia\",\"Dima\",\"Katherine\",\"Jmaes\",\"Emily\",\"Michael\",\"Matthieu\",\"Laura\",\"Kevin\",\"Jonas\"],\n",
    "            \"score\": [12.5,9,16.5,np.nan,9,20,14.5,np.nan,8,19],\n",
    "            \"tentatives\": [1,3,2,3,2,3,1,1,2,1],\n",
    "            \"qualifier\":[\"oui\",\"non\",\"oui\",\"non\",\"non\",\"non\",\"oui\",\"oui\",\"non\",\"oui\"]}\n",
    "etiquettes = [\"a\",\"b\",\"c\",\"d\",\"e\",\"f\",\"g\",\"h\",\"i\",\"j\"]\n",
    "\n",
    "df = pd.DataFrame(exam_data, index = etiquettes)\n",
    "\n",
    "df.to_csv(\"data:cvs\")\n",
    "\n",
    "print(df)"
   ]
  },
  {
   "cell_type": "code",
   "execution_count": null,
   "id": "f4f0a4a1",
   "metadata": {},
   "outputs": [],
   "source": []
  }
 ],
 "metadata": {
  "kernelspec": {
   "display_name": "Python 3 (ipykernel)",
   "language": "python",
   "name": "python3"
  },
  "language_info": {
   "codemirror_mode": {
    "name": "ipython",
    "version": 3
   },
   "file_extension": ".py",
   "mimetype": "text/x-python",
   "name": "python",
   "nbconvert_exporter": "python",
   "pygments_lexer": "ipython3",
   "version": "3.9.7"
  }
 },
 "nbformat": 4,
 "nbformat_minor": 5
}
