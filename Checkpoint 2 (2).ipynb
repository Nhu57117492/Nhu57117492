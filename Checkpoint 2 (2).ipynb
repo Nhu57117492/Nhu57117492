{
 "cells": [
  {
   "cell_type": "code",
   "execution_count": 10,
   "id": "662b3b47",
   "metadata": {},
   "outputs": [
    {
     "name": "stdout",
     "output_type": "stream",
     "text": [
      "donner votre nom : NIOULE\n",
      "donner votre prenom : Hyacinthe Ulrich\n",
      "Hyacinthe Ulrich NIOULE\n"
     ]
    }
   ],
   "source": [
    "#Question 1\n",
    "nom = str(input(\"donner votre nom : \"))\n",
    "prenoms = str(input(\"donner votre prenom : \"))\n",
    "print(prenoms, nom)\n"
   ]
  },
  {
   "cell_type": "code",
   "execution_count": 11,
   "id": "644585e4",
   "metadata": {},
   "outputs": [
    {
     "name": "stdout",
     "output_type": "stream",
     "text": [
      "Entrer un entier:n = 5\n",
      "n+nn+nnn = 5 + 55 + 555 = 615\n"
     ]
    }
   ],
   "source": [
    "#Question 2\n",
    "#entrer de la valeur de n\n",
    "n = input(\"Entrer un entier:n = \")\n",
    "#Creation des chaine de caractere n, nn et nnn\n",
    "nn = n+n \n",
    "nnn = n+n+n\n",
    "#Conversion en entier des differentes \n",
    "n = int(n)\n",
    "nn = int(nn)\n",
    "nnn = int(nnn)\n",
    "print(\"n+nn+nnn =\",n,\"+\",nn,\"+\",nnn,\"=\",n+nn+nnn)"
   ]
  },
  {
   "cell_type": "code",
   "execution_count": 13,
   "id": "6fd50b6c",
   "metadata": {},
   "outputs": [
    {
     "name": "stdout",
     "output_type": "stream",
     "text": [
      "donner un entier: n = 56384645\n",
      "56384645 est un nombre impair\n"
     ]
    }
   ],
   "source": [
    "#Question 3\n",
    "n = int(input(\"donner un entier: n = \"))\n",
    "if n%2==0:\n",
    "    print(n,\"est un nombre pair\")\n",
    "else:\n",
    "    print(n,\"est un nombre impair\")"
   ]
  },
  {
   "cell_type": "code",
   "execution_count": 9,
   "id": "4075c023",
   "metadata": {},
   "outputs": [
    {
     "name": "stdout",
     "output_type": "stream",
     "text": [
      "[2002, 2009, 2016, 2023, 2037, 2044, 2051, 2058, 2072, 2079, 2086, 2093, 2107, 2114, 2121, 2128, 2142, 2149, 2156, 2163, 2177, 2184, 2191, 2198, 2212, 2219, 2226, 2233, 2247, 2254, 2261, 2268, 2282, 2289, 2296, 2303, 2317, 2324, 2331, 2338, 2352, 2359, 2366, 2373, 2387, 2394, 2401, 2408, 2422, 2429, 2436, 2443, 2457, 2464, 2471, 2478, 2492, 2499, 2506, 2513, 2527, 2534, 2541, 2548, 2562, 2569, 2576, 2583, 2597, 2604, 2611, 2618, 2632, 2639, 2646, 2653, 2667, 2674, 2681, 2688, 2702, 2709, 2716, 2723, 2737, 2744, 2751, 2758, 2772, 2779, 2786, 2793, 2807, 2814, 2821, 2828, 2842, 2849, 2856, 2863, 2877, 2884, 2891, 2898, 2912, 2919, 2926, 2933, 2947, 2954, 2961, 2968, 2982, 2989, 2996, 3003, 3017, 3024, 3031, 3038, 3052, 3059, 3066, 3073, 3087, 3094, 3101, 3108, 3122, 3129, 3136, 3143, 3157, 3164, 3171, 3178, 3192, 3199]\n"
     ]
    }
   ],
   "source": [
    "#Question 4\n",
    "i=1\n",
    "V=[]\n",
    "for n in range(2000,3201):\n",
    "    if n%7==0 and n%5!=0:\n",
    "        i=i+1\n",
    "        V.append(n)\n",
    "print(V)\n",
    "     "
   ]
  },
  {
   "cell_type": "code",
   "execution_count": 23,
   "id": "af19b587",
   "metadata": {},
   "outputs": [
    {
     "name": "stdout",
     "output_type": "stream",
     "text": [
      "entrer un entier: n = 8\n"
     ]
    },
    {
     "data": {
      "text/plain": [
       "40320"
      ]
     },
     "execution_count": 23,
     "metadata": {},
     "output_type": "execute_result"
    }
   ],
   "source": [
    "#Question 5\n",
    "n = int(input(\"entrer un entier: n = \"))\n",
    "def factoriel(n):\n",
    " fact = 1\n",
    " while (n>1):\n",
    "    fact *= n\n",
    "    n -= 1\n",
    " return fact\n",
    "factoriel(n)"
   ]
  },
  {
   "cell_type": "code",
   "execution_count": 18,
   "id": "4aeb9dda",
   "metadata": {},
   "outputs": [
    {
     "name": "stdout",
     "output_type": "stream",
     "text": [
      "Entrer une chaine de caractere : ch = hello team\n",
      "hlota\n"
     ]
    }
   ],
   "source": [
    "#Question 6\n",
    "ch = input(\"Entrer une chaine de caractere : ch = \")\n",
    "l = len(ch)\n",
    "ch1 = \"\"\n",
    "for i in range(0,l):\n",
    "    if i%2 == 0:\n",
    "      ch1= ch1+ch[i]\n",
    "print(ch1)"
   ]
  },
  {
   "cell_type": "code",
   "execution_count": 21,
   "id": "2beb0155",
   "metadata": {},
   "outputs": [
    {
     "name": "stdout",
     "output_type": "stream",
     "text": [
      "Entrer le prix sur l'article: P = 10000\n",
      "Vous devez payer : P =  5000.0 F CFA\n"
     ]
    }
   ],
   "source": [
    "\n",
    " #Question 7\n",
    "P = float(input(\"Entrer le prix sur l'article: P = \"))\n",
    "while P < 0:\n",
    "    print(\"Erreur!!!\")\n",
    "    P = float(input(\"Entrer le prix sur l'article: P = \"))\n",
    "if P >= 500:\n",
    "  P = (1-50/100)*P\n",
    "elif 200 <= P < 500:\n",
    "  P = (1-30/100)*P\n",
    "else:\n",
    "  P = (1-10/100)*P\n",
    "print(\"Vous devez payer : P = \",P,\"F CFA\")"
   ]
  }
 ],
 "metadata": {
  "kernelspec": {
   "display_name": "Python 3 (ipykernel)",
   "language": "python",
   "name": "python3"
  },
  "language_info": {
   "codemirror_mode": {
    "name": "ipython",
    "version": 3
   },
   "file_extension": ".py",
   "mimetype": "text/x-python",
   "name": "python",
   "nbconvert_exporter": "python",
   "pygments_lexer": "ipython3",
   "version": "3.9.7"
  }
 },
 "nbformat": 4,
 "nbformat_minor": 5
}
