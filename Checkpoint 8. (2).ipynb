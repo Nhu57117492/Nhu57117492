{
 "cells": [
  {
   "cell_type": "code",
   "execution_count": 1,
   "id": "094b0664",
   "metadata": {
    "scrolled": true
   },
   "outputs": [
    {
     "data": {
      "text/plain": [
       "'What is Python language?                                                \\nPython is a widely used high-level, general-purpose, interpreted, dynamic programming language.Its design philosophy emphasizes code readability, and its syntax allows programmers to express concepts in fewer lines of code than possible in \\nlanguages such as C++ or Java. \\nPython supports multiple programming paradigms, including object-oriented, imperative and functional programming or procedural styles. It features a dynamic type system and automatic memory management and has a large and comprehensive standard library.The best way we learn anything is by practice and exercise questions. We  have started this section for those (beginner to intermediate) who are familiar with Python.'"
      ]
     },
     "execution_count": 1,
     "metadata": {},
     "output_type": "execute_result"
    }
   ],
   "source": [
    "#Question 1\n",
    "f = open(\"python.txt\",\"r\")\n",
    "f.read()"
   ]
  },
  {
   "cell_type": "code",
   "execution_count": 2,
   "id": "b9259566",
   "metadata": {},
   "outputs": [
    {
     "name": "stdout",
     "output_type": "stream",
     "text": [
      "donner un entier : 3\n"
     ]
    },
    {
     "data": {
      "text/plain": [
       "['What is Python language?                                                \\n',\n",
       " 'Python is a widely used high-level, general-purpose, interpreted, dynamic programming language.Its design philosophy emphasizes code readability, and its syntax allows programmers to express concepts in fewer lines of code than possible in \\n',\n",
       " 'languages such as C++ or Java. \\n']"
      ]
     },
     "execution_count": 2,
     "metadata": {},
     "output_type": "execute_result"
    }
   ],
   "source": [
    "#Question 2\n",
    "n = int(input(\"donner un entier : \"))\n",
    "def lire_nPligne(n):\n",
    "    f = open(\"python.txt\",\"r\")\n",
    "    return f.readlines()[:n]\n",
    "lire_nPligne(n) "
   ]
  },
  {
   "cell_type": "code",
   "execution_count": 3,
   "id": "efdd11c1",
   "metadata": {},
   "outputs": [
    {
     "name": "stdout",
     "output_type": "stream",
     "text": [
      "donner un entier : 3\n"
     ]
    },
    {
     "data": {
      "text/plain": [
       "['Python is a widely used high-level, general-purpose, interpreted, dynamic programming language.Its design philosophy emphasizes code readability, and its syntax allows programmers to express concepts in fewer lines of code than possible in \\n',\n",
       " 'languages such as C++ or Java. \\n',\n",
       " 'Python supports multiple programming paradigms, including object-oriented, imperative and functional programming or procedural styles. It features a dynamic type system and automatic memory management and has a large and comprehensive standard library.The best way we learn anything is by practice and exercise questions. We  have started this section for those (beginner to intermediate) who are familiar with Python.']"
      ]
     },
     "execution_count": 3,
     "metadata": {},
     "output_type": "execute_result"
    }
   ],
   "source": [
    "#Question 3\n",
    "n = int(input(\"donner un entier : \"))\n",
    "def lire_nDligne(n):\n",
    "    f = open(\"python.txt\",\"r\")\n",
    "    return f.readlines()[-n:]\n",
    "lire_nDligne(n)"
   ]
  },
  {
   "cell_type": "code",
   "execution_count": 5,
   "id": "4d66906e",
   "metadata": {},
   "outputs": [
    {
     "name": "stdout",
     "output_type": "stream",
     "text": [
      "le nombre de mot du texte est : 100\n"
     ]
    }
   ],
   "source": [
    "#Question 4\n",
    "f = open(\"python.txt\",\"r\")\n",
    "var1 = f.read()\n",
    "List = var1.split()\n",
    "L = len(List)\n",
    "print(\"le nombre de mot du texte est :\", L)\n"
   ]
  },
  {
   "cell_type": "code",
   "execution_count": 6,
   "id": "5e469322",
   "metadata": {},
   "outputs": [
    {
     "name": "stdout",
     "output_type": "stream",
     "text": [
      "donner un entier : 3\n"
     ]
    },
    {
     "data": {
      "text/plain": [
       "['Python is a widely used high-level, general-purpose, interpreted, dynamic programming language.Its design philosophy emphasizes code readability, and its syntax allows programmers to express concepts in fewer lines of code than possible in \\n',\n",
       " 'languages such as C++ or Java. \\n',\n",
       " 'Python supports multiple programming paradigms, including object-oriented, imperative and functional programming or procedural styles. It features a dynamic type system and automatic memory management and has a large and comprehensive standard library.The best way we learn anything is by practice and exercise questions. We  have started this section for those (beginner to intermediate) who are familiar with Python.']"
      ]
     },
     "execution_count": 6,
     "metadata": {},
     "output_type": "execute_result"
    }
   ],
   "source": [
    "#Question 5\n",
    "n = int(input(\"donner un entier : \"))\n",
    "def lire_nDligne(n):\n",
    "    f = open(\"python.txt\",\"r\")\n",
    "    return f.readlines()[-n:]\n",
    "lire_nDligne(n)"
   ]
  },
  {
   "cell_type": "code",
   "execution_count": null,
   "id": "ca8c59b9",
   "metadata": {},
   "outputs": [],
   "source": []
  }
 ],
 "metadata": {
  "kernelspec": {
   "display_name": "Python 3 (ipykernel)",
   "language": "python",
   "name": "python3"
  },
  "language_info": {
   "codemirror_mode": {
    "name": "ipython",
    "version": 3
   },
   "file_extension": ".py",
   "mimetype": "text/x-python",
   "name": "python",
   "nbconvert_exporter": "python",
   "pygments_lexer": "ipython3",
   "version": "3.9.7"
  }
 },
 "nbformat": 4,
 "nbformat_minor": 5
}
