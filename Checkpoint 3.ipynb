{
 "cells": [
  {
   "cell_type": "code",
   "execution_count": 1,
   "id": "57f70f7f",
   "metadata": {},
   "outputs": [
    {
     "name": "stdout",
     "output_type": "stream",
     "text": [
      "36\n"
     ]
    }
   ],
   "source": [
    "#Question 1\n",
    "list=[2,3,6]\n",
    "P=1\n",
    "for i in list:\n",
    "    P=P*i\n",
    "print(P)"
   ]
  },
  {
   "cell_type": "code",
   "execution_count": 12,
   "id": "3a9758c0",
   "metadata": {},
   "outputs": [
    {
     "data": {
      "text/plain": [
       "[(2, 1), (1, 2), (2, 3), (4, 4), (2, 5)]"
      ]
     },
     "execution_count": 12,
     "metadata": {},
     "output_type": "execute_result"
    }
   ],
   "source": [
    "#Question 2\n",
    "def takeSecond(elem):\n",
    "   return elem[1]\n",
    "Tuple = [(2, 5),(1, 2),(4, 4),(2, 3),(2, 1)]\n",
    "Tuple.sort(key=takeSecond)\n",
    "Tuple"
   ]
  },
  {
   "cell_type": "code",
   "execution_count": 67,
   "id": "229f43a7",
   "metadata": {},
   "outputs": [
    {
     "name": "stdout",
     "output_type": "stream",
     "text": [
      "{'a': 400, 'b': 400, 'd': 400, 'c': 300}\n"
     ]
    }
   ],
   "source": [
    "#Questions 3\n",
    "d1={'a': 100, 'b': 200, 'c':300}\n",
    "d2={'a': 300, 'b': 200, 'd': 400,}\n",
    "d={}\n",
    "d['a']=d1['a']+d2['a']\n",
    "d['b']=d1['b']+d2['b']\n",
    "d['d']=d2['d']\n",
    "d['c']=d1['c'] \n",
    "print(d)\n",
    "\n"
   ]
  },
  {
   "cell_type": "code",
   "execution_count": 78,
   "id": "3e1d0ae7",
   "metadata": {},
   "outputs": [
    {
     "name": "stdout",
     "output_type": "stream",
     "text": [
      "donner un entier : 8\n",
      "dict= {1: 1, 2: 4, 3: 9, 4: 16, 5: 25, 6: 36, 7: 49, 8: 64}\n"
     ]
    }
   ],
   "source": [
    "#Question 4\n",
    "dict={}\n",
    "n = int(input(\"donner un entier : \"))\n",
    "for i in range(1,n+1):\n",
    "   dict[i]=i*i\n",
    "print(\"dict=\", dict)"
   ]
  },
  {
   "cell_type": "code",
   "execution_count": 84,
   "id": "10455204",
   "metadata": {},
   "outputs": [
    {
     "name": "stdout",
     "output_type": "stream",
     "text": [
      "list =  [('item3', '24.5'), ('item2', '15.10'), ('item1', '12.20')]\n"
     ]
    }
   ],
   "source": [
    "#Question 2\n",
    "def takeSecond(elem):\n",
    "   return elem[1]\n",
    "list = [('item1', '12.20'), ('item3', '24.5'), ('item2', '15.10')]\n",
    "list.sort(key=takeSecond, reverse=True)\n",
    "print('list = ', list)"
   ]
  }
 ],
 "metadata": {
  "kernelspec": {
   "display_name": "Python 3 (ipykernel)",
   "language": "python",
   "name": "python3"
  },
  "language_info": {
   "codemirror_mode": {
    "name": "ipython",
    "version": 3
   },
   "file_extension": ".py",
   "mimetype": "text/x-python",
   "name": "python",
   "nbconvert_exporter": "python",
   "pygments_lexer": "ipython3",
   "version": "3.9.7"
  }
 },
 "nbformat": 4,
 "nbformat_minor": 5
}
