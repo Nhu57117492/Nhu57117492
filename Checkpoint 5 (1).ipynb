{
 "cells": [
  {
   "cell_type": "code",
   "execution_count": 66,
   "id": "b0d820c8",
   "metadata": {},
   "outputs": [
    {
     "name": "stdout",
     "output_type": "stream",
     "text": [
      "<__main__.Point3D object at 0x000001F91B554B20>\n"
     ]
    }
   ],
   "source": [
    "#Question 1\n",
    "class Point3D:\n",
    "    def __init__(self,x,y,z):\n",
    "        self.x = x\n",
    "        self.y = y\n",
    "        self.z = z\n",
    "        \n",
    "my_point = Point3D(1, 2, 3)\n",
    "print(my_point)"
   ]
  },
  {
   "cell_type": "code",
   "execution_count": 65,
   "id": "06f22ddc",
   "metadata": {},
   "outputs": [
    {
     "name": "stdout",
     "output_type": "stream",
     "text": [
      "<__main__.Rectangle object at 0x000001F91B5544C0>\n",
      "12\n",
      "14\n"
     ]
    }
   ],
   "source": [
    "#Question 2\n",
    "class Rectangle:\n",
    "    def __init__(self, longueur, largeur):\n",
    "        self.longueur = longueur\n",
    "        self.largeur = largeur\n",
    "    def aire(self):\n",
    "        return self.longueur * self.largeur\n",
    "    \n",
    "    def perimetre(self):\n",
    "        return 2*( self.longueur + self.largeur)\n",
    "    \n",
    "my_rectangle = Rectangle(3, 4)\n",
    "print(my_rectangle)\n",
    "print(my_rectangle.aire())\n",
    "print(my_rectangle.perimetre())"
   ]
  },
  {
   "cell_type": "code",
   "execution_count": 61,
   "id": "b4e636f6",
   "metadata": {},
   "outputs": [
    {
     "name": "stdout",
     "output_type": "stream",
     "text": [
      "A appartient au cercle\n"
     ]
    }
   ],
   "source": [
    "#Question 3\n",
    "class Circle:\n",
    "    def __init__(self, centre_O, rayon_r):\n",
    "        self.centre_O = centre_O\n",
    "        self.rayon_r = rayon_r\n",
    "    def aire(self):\n",
    "        return 3.14*self.rayon_r**2\n",
    "    def perimetre(self):\n",
    "        return 2*3.14.self.rayon_r\n",
    "    def inside(self,x,y):\n",
    "        A = (x-4)**2+(y-5)**2\n",
    "        if A == 9:\n",
    "            return \"A appartient au cercle\"\n",
    "        else:\n",
    "            return \"A n'appartient pas au cercle\"\n",
    "my_circle = Circle(0, 3)\n",
    "print(my_circle.inside(1, 5))\n",
    "    "
   ]
  },
  {
   "cell_type": "code",
   "execution_count": 60,
   "id": "e1b983fe",
   "metadata": {},
   "outputs": [
    {
     "name": "stdout",
     "output_type": "stream",
     "text": [
      "8000\n",
      "3000\n"
     ]
    }
   ],
   "source": [
    "#Question 4\n",
    "class Bank:\n",
    "    def __init__(self, solde):\n",
    "        self.solde = solde\n",
    "    def depot(self,mont_deposé):\n",
    "        new_solde1 = self.solde + mont_deposé\n",
    "        return new_solde1\n",
    "    def retrait(self,mont_retiré):\n",
    "        new_solde2 = self.solde - mont_retiré\n",
    "        return new_solde2\n",
    "    \n",
    "my_bank = Bank(5000)\n",
    "print(my_bank.depot(3000))\n",
    "print(my_bank.retrait(2000))"
   ]
  },
  {
   "cell_type": "code",
   "execution_count": null,
   "id": "bc587cd5",
   "metadata": {},
   "outputs": [],
   "source": []
  }
 ],
 "metadata": {
  "kernelspec": {
   "display_name": "Python 3 (ipykernel)",
   "language": "python",
   "name": "python3"
  },
  "language_info": {
   "codemirror_mode": {
    "name": "ipython",
    "version": 3
   },
   "file_extension": ".py",
   "mimetype": "text/x-python",
   "name": "python",
   "nbconvert_exporter": "python",
   "pygments_lexer": "ipython3",
   "version": "3.9.7"
  }
 },
 "nbformat": 4,
 "nbformat_minor": 5
}
